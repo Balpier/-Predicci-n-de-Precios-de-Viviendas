import pandas as pd
import numpy as np
from sklearn.model_selection import train_test_split, GridSearchCV
from sklearn.preprocessing import LabelEncoder, StandardScaler
from sklearn.linear_model import LinearRegression
from sklearn.neighbors import KNeighborsRegressor
from sklearn.svm import SVR
from sklearn.tree import DecisionTreeRegressor
from sklearn.metrics import mean_squared_error, r2_score
import ipywidgets as widgets
from IPython.display import display, clear_output

data = pd.read_csv('DatosViviendaPeru.csv', encoding='latin1', sep=';', on_bad_lines='skip')
data.columns = data.columns.str.strip().str.lower().str.replace(' ', '_').str.replace('ó','o').str.replace('ú','u').str.replace('ñ','n')

cols_num_potenciales = [
    'precio_en_soles_corrientes',
    'precio_en_dolares_corrientes',
    'precio_en_soles_constantes_de_2009',
    'superficie',
    'numero_de_habitaciones',
    'numero_de_banos',
    'numero_de_garajes',
    'piso_de_ubicacion',
    'anos_de_antiguedad',
    'ipc',
    'tipo_de_cambio',
    'trimestre',
    'ano'
]

for col in cols_num_potenciales:
    if col in data.columns:
        data[col] = data[col].astype(str).str.replace(' ', '').str.replace(',', '.')
        data[col] = pd.to_numeric(data[col], errors='coerce')

data = data.dropna(subset=['precio_en_soles_corrientes'])

X = data.drop(columns=['precio_en_soles_corrientes'])
y = data['precio_en_soles_corrientes']


le = LabelEncoder()
X['distrito'] = le.fit_transform(X['distrito'].astype(str))


num_cols = X.select_dtypes(include=[np.number]).columns.tolist()
for col in num_cols:
    X[col] = X[col].fillna(X[col].mean())

X_train, X_test, y_train, y_test = train_test_split(X, y, test_size=0.2, random_state=42)
scaler = StandardScaler()
X_train[num_cols] = scaler.fit_transform(X_train[num_cols])
X_test[num_cols] = scaler.transform(X_test[num_cols])

param_grid_knn = {'n_neighbors': range(1, 21), 'weights': ['uniform', 'distance']}
grid_knn = GridSearchCV(KNeighborsRegressor(), param_grid_knn, cv=5, scoring='neg_mean_squared_error')
grid_knn.fit(X_train, y_train)
best_knn = grid_knn.best_estimator_

models = {
    'Regresión Lineal': LinearRegression(),
    'KNN Optimizado': best_knn,
    'SVR (Kernel RBF)': SVR(kernel='rbf'),
    'Árbol de Decisión': DecisionTreeRegressor(random_state=42)
}

for name, model in models.items():
    model.fit(X_train, y_train)

distrito_widget = widgets.Dropdown(options=le.classes_.tolist(), description='Distrito:')
superficie_widget = widgets.FloatText(value=50.0, description='Superficie (m2):')
habitaciones_widget = widgets.IntText(value=2, description='Habitaciones:')
banos_widget = widgets.IntText(value=1, description='Baños:')
garajes_widget = widgets.IntText(value=0, description='Garajes:')
piso_widget = widgets.IntText(value=1, description='Piso:')
antiguedad_widget = widgets.IntText(value=5, description='Años antigüedad:')
trimestre_widget = widgets.IntText(value=1, description='Trimestre:')
ano_widget = widgets.IntText(value=2024, description='Año:')

output = widgets.Output()

def predecir(_):
    with output:
        clear_output()
        try:
      
            X_new = pd.DataFrame(columns=X_train.columns)
            
     
            distrito_cod = le.transform([distrito_widget.value])[0]
            
            X_new.loc[0] = {
                'distrito': distrito_cod,
                'superficie': float(superficie_widget.value),
                'numero_de_habitaciones': int(habitaciones_widget.value),
                'numero_de_banos': int(banos_widget.value),
                'numero_de_garajes': int(garajes_widget.value),
                'piso_de_ubicacion': int(piso_widget.value),
                'anos_de_antiguedad': int(antiguedad_widget.value),
                'tipo_de_cambio': float(3.7),  # valor fijo
                'trimestre': int(trimestre_widget.value),
                'ano': int(ano_widget.value),
                'precio_en_dolares_corrientes': float(0),
                'precio_en_soles_constantes_de_2009': float(0),
                'vista_al_exterior': int(0) if 'vista_al_exterior' in X_train.columns else int(0),
                'ipc': float(X_train['ipc'].mean())  
            }

            for col in num_cols:
                if col not in X_new:
                    X_new[col] = X_train[col].mean()
            
            
            X_new[num_cols] = scaler.transform(X_new[num_cols])
            
            print("Predicciones de precio (S/):")
            for nombre, modelo in models.items():
                pred = modelo.predict(X_new)[0]
                print(f"  {nombre}: {pred:,.2f} soles")

        except Exception as e:
            print("Error en predicción:", str(e))

boton = widgets.Button(description="Predecir precio")
boton.on_click(predecir)

display(
    widgets.VBox([
        distrito_widget,
        superficie_widget,
        habitaciones_widget,
        banos_widget,
        garajes_widget,
        piso_widget,
        antiguedad_widget,
        trimestre_widget,
        ano_widget,
        boton,
        output
    ])
)
